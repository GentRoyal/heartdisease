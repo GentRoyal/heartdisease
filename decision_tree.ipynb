{
 "cells": [
  {
   "cell_type": "markdown",
   "metadata": {},
   "source": [
    "<font size = \"+3\"><strong>Heart Disease</strong></font>"
   ]
  },
  {
   "cell_type": "markdown",
   "metadata": {},
   "source": [
    "<font size = \"+1\"><strong>Report if chest pain is an indicator of a heart disease</strong></font>"
   ]
  },
  {
   "cell_type": "markdown",
   "metadata": {},
   "source": [
    "<font face = \"calibri\">\n",
    "<p>There are several types of diseases, and one of them is the heart disease. Literally, the heart disease is any disease that causes the heart not to function properly. Several factors which include lifestyle changes, abuse of illicit drug and stress can cause heart failure. <p>Note that heart diseases are of different types and each has its own symptoms. One of the symptoms of a heart disease is the chest pain. <p>In this project, we'll try to get a sense if chest pain is an indicator or heart disease using a Decision tree classifier"
   ]
  },
  {
   "cell_type": "markdown",
   "metadata": {},
   "source": [
    "# Prepare Data"
   ]
  },
  {
   "cell_type": "markdown",
   "metadata": {},
   "source": [
    "## Import"
   ]
  },
  {
   "cell_type": "markdown",
   "metadata": {},
   "source": [
    "**Task 1:** Import all necessary libraries"
   ]
  },
  {
   "cell_type": "code",
   "execution_count": 1,
   "metadata": {},
   "outputs": [],
   "source": [
    "import pandas as pd\n",
    "import matplotlib.pyplot as plt\n",
    "import seaborn as sns\n",
    "import numpy as np\n",
    "from sklearn.model_selection import train_test_split\n",
    "from category_encoders import OrdinalEncoder\n",
    "from sklearn.pipeline import make_pipeline, Pipeline\n",
    "from sklearn.tree import plot_tree, DecisionTreeClassifier"
   ]
  },
  {
   "cell_type": "markdown",
   "metadata": {},
   "source": [
    "**Task 2:** Create a wrangle function to clean the dataset"
   ]
  },
  {
   "cell_type": "code",
   "execution_count": 2,
   "metadata": {},
   "outputs": [
    {
     "data": {
      "text/html": [
       "<div>\n",
       "<style scoped>\n",
       "    .dataframe tbody tr th:only-of-type {\n",
       "        vertical-align: middle;\n",
       "    }\n",
       "\n",
       "    .dataframe tbody tr th {\n",
       "        vertical-align: top;\n",
       "    }\n",
       "\n",
       "    .dataframe thead th {\n",
       "        text-align: right;\n",
       "    }\n",
       "</style>\n",
       "<table border=\"1\" class=\"dataframe\">\n",
       "  <thead>\n",
       "    <tr style=\"text-align: right;\">\n",
       "      <th></th>\n",
       "      <th>age</th>\n",
       "      <th>sex</th>\n",
       "      <th>cp</th>\n",
       "      <th>trestbps</th>\n",
       "      <th>chol</th>\n",
       "      <th>fbs</th>\n",
       "      <th>restecg</th>\n",
       "      <th>thalach</th>\n",
       "      <th>exang</th>\n",
       "      <th>oldpeak</th>\n",
       "      <th>slope</th>\n",
       "      <th>ca</th>\n",
       "      <th>thal</th>\n",
       "      <th>heart_disease</th>\n",
       "    </tr>\n",
       "  </thead>\n",
       "  <tbody>\n",
       "    <tr>\n",
       "      <th>0</th>\n",
       "      <td>67</td>\n",
       "      <td>Male</td>\n",
       "      <td>Asymptomatic</td>\n",
       "      <td>160.0</td>\n",
       "      <td>286.0</td>\n",
       "      <td>False</td>\n",
       "      <td>Abnormal</td>\n",
       "      <td>108.0</td>\n",
       "      <td>Yes</td>\n",
       "      <td>1.5</td>\n",
       "      <td>Flat</td>\n",
       "      <td>3</td>\n",
       "      <td>Normal</td>\n",
       "      <td>1</td>\n",
       "    </tr>\n",
       "    <tr>\n",
       "      <th>1</th>\n",
       "      <td>67</td>\n",
       "      <td>Male</td>\n",
       "      <td>Asymptomatic</td>\n",
       "      <td>120.0</td>\n",
       "      <td>229.0</td>\n",
       "      <td>False</td>\n",
       "      <td>Abnormal</td>\n",
       "      <td>129.0</td>\n",
       "      <td>Yes</td>\n",
       "      <td>2.6</td>\n",
       "      <td>Flat</td>\n",
       "      <td>2</td>\n",
       "      <td>Reversible defect</td>\n",
       "      <td>1</td>\n",
       "    </tr>\n",
       "    <tr>\n",
       "      <th>2</th>\n",
       "      <td>37</td>\n",
       "      <td>Male</td>\n",
       "      <td>Non-anginal pain</td>\n",
       "      <td>130.0</td>\n",
       "      <td>250.0</td>\n",
       "      <td>False</td>\n",
       "      <td>Normal</td>\n",
       "      <td>187.0</td>\n",
       "      <td>No</td>\n",
       "      <td>3.5</td>\n",
       "      <td>Down sloping</td>\n",
       "      <td>0</td>\n",
       "      <td>Normal</td>\n",
       "      <td>0</td>\n",
       "    </tr>\n",
       "    <tr>\n",
       "      <th>3</th>\n",
       "      <td>41</td>\n",
       "      <td>Female</td>\n",
       "      <td>Atypical angina</td>\n",
       "      <td>130.0</td>\n",
       "      <td>204.0</td>\n",
       "      <td>False</td>\n",
       "      <td>Abnormal</td>\n",
       "      <td>172.0</td>\n",
       "      <td>No</td>\n",
       "      <td>1.4</td>\n",
       "      <td>upsloping</td>\n",
       "      <td>0</td>\n",
       "      <td>Normal</td>\n",
       "      <td>0</td>\n",
       "    </tr>\n",
       "    <tr>\n",
       "      <th>4</th>\n",
       "      <td>56</td>\n",
       "      <td>Male</td>\n",
       "      <td>Atypical angina</td>\n",
       "      <td>120.0</td>\n",
       "      <td>236.0</td>\n",
       "      <td>False</td>\n",
       "      <td>Normal</td>\n",
       "      <td>178.0</td>\n",
       "      <td>No</td>\n",
       "      <td>0.8</td>\n",
       "      <td>upsloping</td>\n",
       "      <td>0</td>\n",
       "      <td>Normal</td>\n",
       "      <td>0</td>\n",
       "    </tr>\n",
       "  </tbody>\n",
       "</table>\n",
       "</div>"
      ],
      "text/plain": [
       "   age     sex                cp  trestbps   chol    fbs   restecg  thalach  \\\n",
       "0   67    Male      Asymptomatic     160.0  286.0  False  Abnormal    108.0   \n",
       "1   67    Male      Asymptomatic     120.0  229.0  False  Abnormal    129.0   \n",
       "2   37    Male  Non-anginal pain     130.0  250.0  False    Normal    187.0   \n",
       "3   41  Female   Atypical angina     130.0  204.0  False  Abnormal    172.0   \n",
       "4   56    Male   Atypical angina     120.0  236.0  False    Normal    178.0   \n",
       "\n",
       "  exang  oldpeak         slope  ca               thal  heart_disease  \n",
       "0   Yes      1.5          Flat   3             Normal              1  \n",
       "1   Yes      2.6          Flat   2  Reversible defect              1  \n",
       "2    No      3.5  Down sloping   0             Normal              0  \n",
       "3    No      1.4     upsloping   0             Normal              0  \n",
       "4    No      0.8     upsloping   0             Normal              0  "
      ]
     },
     "execution_count": 2,
     "metadata": {},
     "output_type": "execute_result"
    }
   ],
   "source": [
    "#Create a wrangle function\n",
    "def wrangle(filepath):\n",
    "    df = pd.read_fwf(filepath)\n",
    "    \n",
    "    #Change the column names to match the data dictionary\n",
    "    df[[\"age\", \"sex\", \"cp\", \"trestbps\", \"chol\", \"fbs\", \"restecg\", \"thalach\", \"exang\", \"oldpeak\", \"slope\", \"ca\", \"thal\", \"num\"]] = df[\"63.0,1.0,1.0,145.0,233.0,1.0,2.0,150.0,0.0,2.3,3.0,0.0,6.0,0\"].str.split(\",\", expand = True)\n",
    "\n",
    "    df.drop(columns = \"63.0,1.0,1.0,145.0,233.0,1.0,2.0,150.0,0.0,2.3,3.0,0.0,6.0,0\", inplace = True)\n",
    "\n",
    "    # Typecasting\n",
    "    df = df.select_dtypes(\"object\").astype(float)\n",
    "    df[[\"age\", \"sex\", \"cp\",\"fbs\",\"restecg\",\"exang\",\"slope\",\"ca\",\"thal\",\"num\"]] = df[[\"age\",\"sex\", \"cp\",\"fbs\",\"restecg\",\"exang\",\"slope\",\"ca\",\"thal\",\"num\"]].astype(int)\n",
    "\n",
    "    #Perform binary classification:- 0 = No heart disease and >0 = Heart disease\n",
    "    df[\"heart_disease\"] = (df[\"num\"] > 0).astype(int)\n",
    "\n",
    "    #Replace categorical values with actual values\n",
    "    df[\"sex\"].replace({1:\"Male\", 0 : \"Female\"}, inplace = True)\n",
    "    df[\"cp\"].replace({1:\"Typical Angina\", 2 : \"Atypical angina\", 3 : \"Non-anginal pain\", 4 : \"Asymptomatic\"}, inplace = True)\n",
    "    df[\"restecg\"].replace({0:\"Normal\", 1 : \"Abnormal\", 2 : \"Abnormal\"}, inplace = True)\n",
    "    df[\"exang\"].replace({1:\"Yes\", 0 : \"No\"}, inplace = True)\n",
    "    df[\"fbs\"].replace({1:\"True\", 0 : \"False\"}, inplace = True)\n",
    "    df[\"slope\"].replace({1: \"upsloping\", 2: \"Flat\", 3: \"Down sloping\"}, inplace = True)\n",
    "    df[\"thal\"].replace({3: 'Normal', 6: 'Fixed defect' , 7: 'Reversible defect'}, inplace = True)    \n",
    "    df = df[(df.thal != 0)]\n",
    "\n",
    "    df.drop(columns = \"num\", inplace = True)\n",
    "\n",
    "    return df\n",
    "    \n",
    "df = wrangle(\"processed.cleveland.data\")\n",
    "df.head()\n"
   ]
  },
  {
   "cell_type": "markdown",
   "metadata": {},
   "source": [
    "**Comment:** The binary classification of the heart disease is 0 is classified as 'no heart disease' while numbers greater than 0 are classified as heart disease"
   ]
  },
  {
   "cell_type": "markdown",
   "metadata": {},
   "source": [
    "**Task 3:** Inspect dataframe"
   ]
  },
  {
   "cell_type": "code",
   "execution_count": 3,
   "metadata": {},
   "outputs": [
    {
     "name": "stdout",
     "output_type": "stream",
     "text": [
      "Shape of dataframe:  (300, 14)\n",
      "Dataframe information\n",
      "\n",
      "<class 'pandas.core.frame.DataFrame'>\n",
      "Int64Index: 300 entries, 0 to 301\n",
      "Data columns (total 14 columns):\n",
      " #   Column         Non-Null Count  Dtype  \n",
      "---  ------         --------------  -----  \n",
      " 0   age            300 non-null    int32  \n",
      " 1   sex            300 non-null    object \n",
      " 2   cp             300 non-null    object \n",
      " 3   trestbps       300 non-null    float64\n",
      " 4   chol           300 non-null    float64\n",
      " 5   fbs            300 non-null    object \n",
      " 6   restecg        300 non-null    object \n",
      " 7   thalach        300 non-null    float64\n",
      " 8   exang          300 non-null    object \n",
      " 9   oldpeak        300 non-null    float64\n",
      " 10  slope          300 non-null    object \n",
      " 11  ca             300 non-null    int32  \n",
      " 12  thal           300 non-null    object \n",
      " 13  heart_disease  300 non-null    int32  \n",
      "dtypes: float64(4), int32(3), object(7)\n",
      "memory usage: 31.6+ KB\n"
     ]
    }
   ],
   "source": [
    "print(\"Shape of dataframe: \", df.shape)\n",
    "print(\"Dataframe information\\n\")\n",
    "df.info()"
   ]
  },
  {
   "cell_type": "markdown",
   "metadata": {},
   "source": [
    "## Explore"
   ]
  },
  {
   "cell_type": "markdown",
   "metadata": {},
   "source": [
    "**Task 4.1:** Check the proportion of people with heart disease and people without"
   ]
  },
  {
   "cell_type": "code",
   "execution_count": 4,
   "metadata": {},
   "outputs": [
    {
     "name": "stdout",
     "output_type": "stream",
     "text": [
      "Proportion without heart disease:  0.54\n",
      "Proportion with heart disease:  0.46\n"
     ]
    }
   ],
   "source": [
    "major, minor = df[\"heart_disease\"].value_counts(normalize = True)\n",
    "print(\"Proportion without heart disease: \", major)\n",
    "print(\"Proportion with heart disease: \", minor)"
   ]
  },
  {
   "cell_type": "markdown",
   "metadata": {},
   "source": [
    "**Task 4.2:** Visualize the proportion in (1)"
   ]
  },
  {
   "cell_type": "code",
   "execution_count": 5,
   "metadata": {},
   "outputs": [
    {
     "data": {
      "image/png": "[encoded data removed]",
      "text/plain": [
       "<Figure size 432x288 with 1 Axes>"
      ]
     },
     "metadata": {
      "needs_background": "light"
     },
     "output_type": "display_data"
    }
   ],
   "source": [
    "df[\"heart_disease\"].value_counts(normalize = True).plot(kind = \"bar\")\n",
    "plt.xlabel(\"Class\")\n",
    "plt.ylabel(\"Relative frequency\")\n",
    "plt.title(\"Class balance [proportion (%)]\");"
   ]
  },
  {
   "cell_type": "markdown",
   "metadata": {},
   "source": [
    "**Task 5:** Plot a correlation heatmap of the numerical features in the datafram to check if the data frame has multicollinearity issues"
   ]
  },
  {
   "cell_type": "code",
   "execution_count": 6,
   "metadata": {},
   "outputs": [
    {
     "data": {
      "text/html": [
       "<div>\n",
       "<style scoped>\n",
       "    .dataframe tbody tr th:only-of-type {\n",
       "        vertical-align: middle;\n",
       "    }\n",
       "\n",
       "    .dataframe tbody tr th {\n",
       "        vertical-align: top;\n",
       "    }\n",
       "\n",
       "    .dataframe thead th {\n",
       "        text-align: right;\n",
       "    }\n",
       "</style>\n",
       "<table border=\"1\" class=\"dataframe\">\n",
       "  <thead>\n",
       "    <tr style=\"text-align: right;\">\n",
       "      <th></th>\n",
       "      <th>age</th>\n",
       "      <th>trestbps</th>\n",
       "      <th>chol</th>\n",
       "      <th>thalach</th>\n",
       "      <th>oldpeak</th>\n",
       "      <th>ca</th>\n",
       "    </tr>\n",
       "  </thead>\n",
       "  <tbody>\n",
       "    <tr>\n",
       "      <th>age</th>\n",
       "      <td>1.000000</td>\n",
       "      <td>0.283051</td>\n",
       "      <td>0.209471</td>\n",
       "      <td>-0.396613</td>\n",
       "      <td>0.200888</td>\n",
       "      <td>0.368091</td>\n",
       "    </tr>\n",
       "    <tr>\n",
       "      <th>trestbps</th>\n",
       "      <td>0.283051</td>\n",
       "      <td>1.000000</td>\n",
       "      <td>0.130186</td>\n",
       "      <td>-0.046479</td>\n",
       "      <td>0.186623</td>\n",
       "      <td>0.098686</td>\n",
       "    </tr>\n",
       "    <tr>\n",
       "      <th>chol</th>\n",
       "      <td>0.209471</td>\n",
       "      <td>0.130186</td>\n",
       "      <td>1.000000</td>\n",
       "      <td>-0.005679</td>\n",
       "      <td>0.045902</td>\n",
       "      <td>0.120258</td>\n",
       "    </tr>\n",
       "    <tr>\n",
       "      <th>thalach</th>\n",
       "      <td>-0.396613</td>\n",
       "      <td>-0.046479</td>\n",
       "      <td>-0.005679</td>\n",
       "      <td>1.000000</td>\n",
       "      <td>-0.350123</td>\n",
       "      <td>-0.270332</td>\n",
       "    </tr>\n",
       "    <tr>\n",
       "      <th>oldpeak</th>\n",
       "      <td>0.200888</td>\n",
       "      <td>0.186623</td>\n",
       "      <td>0.045902</td>\n",
       "      <td>-0.350123</td>\n",
       "      <td>1.000000</td>\n",
       "      <td>0.303199</td>\n",
       "    </tr>\n",
       "    <tr>\n",
       "      <th>ca</th>\n",
       "      <td>0.368091</td>\n",
       "      <td>0.098686</td>\n",
       "      <td>0.120258</td>\n",
       "      <td>-0.270332</td>\n",
       "      <td>0.303199</td>\n",
       "      <td>1.000000</td>\n",
       "    </tr>\n",
       "  </tbody>\n",
       "</table>\n",
       "</div>"
      ],
      "text/plain": [
       "               age  trestbps      chol   thalach   oldpeak        ca\n",
       "age       1.000000  0.283051  0.209471 -0.396613  0.200888  0.368091\n",
       "trestbps  0.283051  1.000000  0.130186 -0.046479  0.186623  0.098686\n",
       "chol      0.209471  0.130186  1.000000 -0.005679  0.045902  0.120258\n",
       "thalach  -0.396613 -0.046479 -0.005679  1.000000 -0.350123 -0.270332\n",
       "oldpeak   0.200888  0.186623  0.045902 -0.350123  1.000000  0.303199\n",
       "ca        0.368091  0.098686  0.120258 -0.270332  0.303199  1.000000"
      ]
     },
     "execution_count": 6,
     "metadata": {},
     "output_type": "execute_result"
    }
   ],
   "source": [
    "corr = df.select_dtypes(\"number\").drop(columns = \"heart_disease\").corr()\n",
    "corr"
   ]
  },
  {
   "cell_type": "code",
   "execution_count": 7,
   "metadata": {},
   "outputs": [
    {
     "data": {
      "image/png": "[encoded data removed]",
      "text/plain": [
       "<Figure size 432x288 with 2 Axes>"
      ]
     },
     "metadata": {
      "needs_background": "light"
     },
     "output_type": "display_data"
    }
   ],
   "source": [
    "sns.heatmap(corr, cmap = \"Blues\")\n",
    "plt.title(\"Correlation heatmap\");"
   ]
  },
  {
   "cell_type": "markdown",
   "metadata": {},
   "source": [
    "***Comment:*** There is no highly correlated features in the dataframe"
   ]
  },
  {
   "cell_type": "markdown",
   "metadata": {},
   "source": [
    "**Task 6:** Create a boxplot to display the distributions of the `\"age\"` column for both groups in the `\"disease\"` column."
   ]
  },
  {
   "cell_type": "code",
   "execution_count": 8,
   "metadata": {},
   "outputs": [
    {
     "data": {
      "image/png": "[encoded data removed]",
      "text/plain": [
       "<Figure size 432x288 with 1 Axes>"
      ]
     },
     "metadata": {
      "needs_background": "light"
     },
     "output_type": "display_data"
    }
   ],
   "source": [
    "sns.boxplot(data = df, x = \"heart_disease\", y = \"age\")\n",
    "plt.xlabel(\"Class\")\n",
    "plt.ylabel(\"Age [years]\")\n",
    "plt.title(\"Distribution of age [years] by class\");"
   ]
  },
  {
   "cell_type": "markdown",
   "metadata": {},
   "source": [
    "***Comment:*** The boxplot shows that 50% of people that do not have heart disease are between 45 and 60 years old, while 50% of people that have heart disease are between 52 and 60 years old"
   ]
  },
  {
   "cell_type": "markdown",
   "metadata": {},
   "source": [
    "**Task 7.1:** Create a pivot table to check if any of the gender `\"male\"` or `\"female\"` likely to suffer a heart disease than the other"
   ]
  },
  {
   "cell_type": "code",
   "execution_count": 9,
   "metadata": {},
   "outputs": [
    {
     "data": {
      "text/html": [
       "<div>\n",
       "<style scoped>\n",
       "    .dataframe tbody tr th:only-of-type {\n",
       "        vertical-align: middle;\n",
       "    }\n",
       "\n",
       "    .dataframe tbody tr th {\n",
       "        vertical-align: top;\n",
       "    }\n",
       "\n",
       "    .dataframe thead th {\n",
       "        text-align: right;\n",
       "    }\n",
       "</style>\n",
       "<table border=\"1\" class=\"dataframe\">\n",
       "  <thead>\n",
       "    <tr style=\"text-align: right;\">\n",
       "      <th></th>\n",
       "      <th>heart_disease</th>\n",
       "    </tr>\n",
       "    <tr>\n",
       "      <th>sex</th>\n",
       "      <th></th>\n",
       "    </tr>\n",
       "  </thead>\n",
       "  <tbody>\n",
       "    <tr>\n",
       "      <th>Male</th>\n",
       "      <td>0.553922</td>\n",
       "    </tr>\n",
       "    <tr>\n",
       "      <th>Female</th>\n",
       "      <td>0.260417</td>\n",
       "    </tr>\n",
       "  </tbody>\n",
       "</table>\n",
       "</div>"
      ],
      "text/plain": [
       "        heart_disease\n",
       "sex                  \n",
       "Male         0.553922\n",
       "Female       0.260417"
      ]
     },
     "execution_count": 9,
     "metadata": {},
     "output_type": "execute_result"
    }
   ],
   "source": [
    "sex_pivot = pd.pivot_table(\n",
    "    df, \"heart_disease\", \"sex\", aggfunc = np.mean\n",
    ").sort_values(by = \"heart_disease\", ascending = False)\n",
    "sex_pivot"
   ]
  },
  {
   "cell_type": "markdown",
   "metadata": {},
   "source": [
    "**Task 7.2:** Visualize the pivot table in (7.1)"
   ]
  },
  {
   "cell_type": "code",
   "execution_count": 10,
   "metadata": {},
   "outputs": [
    {
     "data": {
      "image/png": "[encoded data removed]",
      "text/plain": [
       "<Figure size 432x288 with 1 Axes>"
      ]
     },
     "metadata": {
      "needs_background": "light"
     },
     "output_type": "display_data"
    }
   ],
   "source": [
    "sex_pivot.plot(kind = \"barh\")\n",
    "plt.axvline(major, color = \"red\", linestyle = \"--\", label = \"Major Class\")\n",
    "plt.axvline(minor, color = \"green\", linestyle = \"--\", label = \"Minor Class\")\n",
    "plt.title(\"Sex distribution\")\n",
    "plt.legend();"
   ]
  },
  {
   "cell_type": "markdown",
   "metadata": {},
   "source": [
    "***Comment:*** The bar chart shows that the male gender is more likely to have a heart disease"
   ]
  },
  {
   "cell_type": "markdown",
   "metadata": {},
   "source": [
    "**Task 8.1:** Create a pivot table to check the distribution of the symptoms"
   ]
  },
  {
   "cell_type": "code",
   "execution_count": 11,
   "metadata": {},
   "outputs": [
    {
     "data": {
      "text/html": [
       "<div>\n",
       "<style scoped>\n",
       "    .dataframe tbody tr th:only-of-type {\n",
       "        vertical-align: middle;\n",
       "    }\n",
       "\n",
       "    .dataframe tbody tr th {\n",
       "        vertical-align: top;\n",
       "    }\n",
       "\n",
       "    .dataframe thead th {\n",
       "        text-align: right;\n",
       "    }\n",
       "</style>\n",
       "<table border=\"1\" class=\"dataframe\">\n",
       "  <thead>\n",
       "    <tr style=\"text-align: right;\">\n",
       "      <th></th>\n",
       "      <th>heart_disease</th>\n",
       "    </tr>\n",
       "    <tr>\n",
       "      <th>cp</th>\n",
       "      <th></th>\n",
       "    </tr>\n",
       "  </thead>\n",
       "  <tbody>\n",
       "    <tr>\n",
       "      <th>Asymptomatic</th>\n",
       "      <td>0.727273</td>\n",
       "    </tr>\n",
       "    <tr>\n",
       "      <th>Typical Angina</th>\n",
       "      <td>0.318182</td>\n",
       "    </tr>\n",
       "    <tr>\n",
       "      <th>Non-anginal pain</th>\n",
       "      <td>0.211765</td>\n",
       "    </tr>\n",
       "    <tr>\n",
       "      <th>Atypical angina</th>\n",
       "      <td>0.180000</td>\n",
       "    </tr>\n",
       "  </tbody>\n",
       "</table>\n",
       "</div>"
      ],
      "text/plain": [
       "                  heart_disease\n",
       "cp                             \n",
       "Asymptomatic           0.727273\n",
       "Typical Angina         0.318182\n",
       "Non-anginal pain       0.211765\n",
       "Atypical angina        0.180000"
      ]
     },
     "execution_count": 11,
     "metadata": {},
     "output_type": "execute_result"
    }
   ],
   "source": [
    "cp_pivot = pd.pivot_table(\n",
    "    df, \"heart_disease\", \"cp\", aggfunc = np.mean\n",
    ").sort_values(\"heart_disease\", ascending = False)\n",
    "cp_pivot"
   ]
  },
  {
   "cell_type": "markdown",
   "metadata": {},
   "source": [
    "**Task 8.2:** Visualize the pivot table in (8.1)"
   ]
  },
  {
   "cell_type": "code",
   "execution_count": 12,
   "metadata": {},
   "outputs": [
    {
     "data": {
      "image/png": "[encoded data removed]",
      "text/plain": [
       "<Figure size 432x288 with 1 Axes>"
      ]
     },
     "metadata": {
      "needs_background": "light"
     },
     "output_type": "display_data"
    }
   ],
   "source": [
    "cp_pivot.plot(kind = \"barh\")\n",
    "plt.axvline(major, color = \"red\", linestyle = \"--\", label = \"Major Class\")\n",
    "plt.axvline(minor, color = \"green\", linestyle = \"--\", label = \"Minor Class\")\n",
    "plt.ylabel(\"Chest pain\")\n",
    "plt.title(\"Chest pain distribution\")\n",
    "plt.legend();"
   ]
  },
  {
   "cell_type": "markdown",
   "metadata": {},
   "source": [
    "***Comment:*** The bar chart shows that people that are asymptomatic are more likely to suffer heart disease (because they do not show any symptom)"
   ]
  },
  {
   "cell_type": "markdown",
   "metadata": {},
   "source": [
    "## Split"
   ]
  },
  {
   "cell_type": "markdown",
   "metadata": {},
   "source": [
    "**Task 9:** Create the feature matrix `X` and target vector `y`. The target in this case is `\"heart_disease\"`. "
   ]
  },
  {
   "cell_type": "code",
   "execution_count": 13,
   "metadata": {},
   "outputs": [],
   "source": [
    "target = 'heart_disease'\n",
    "y = df[target]\n",
    "X = df.drop(columns = target)"
   ]
  },
  {
   "cell_type": "markdown",
   "metadata": {},
   "source": [
    "**Task 10:** Create a train_test_split to split the training and test data"
   ]
  },
  {
   "cell_type": "code",
   "execution_count": 14,
   "metadata": {},
   "outputs": [],
   "source": [
    "# Here, the test data is 20% of the whole data set\n",
    "X_train, X_test, y_train, y_test = train_test_split(\n",
    "    X, y, test_size = 0.2, random_state = 50\n",
    ")"
   ]
  },
  {
   "cell_type": "markdown",
   "metadata": {},
   "source": [
    "**Task 11:** Create a train_test_split to split the validation data"
   ]
  },
  {
   "cell_type": "code",
   "execution_count": 15,
   "metadata": {},
   "outputs": [],
   "source": [
    "# Here, the test data is 20% of the whole data set\n",
    "X_train, X_val, y_train, y_val = train_test_split(\n",
    "    X_train, y_train, test_size = 0.2, random_state = 50\n",
    ")"
   ]
  },
  {
   "cell_type": "markdown",
   "metadata": {},
   "source": [
    "# Build Model"
   ]
  },
  {
   "cell_type": "markdown",
   "metadata": {},
   "source": [
    "## Baseline"
   ]
  },
  {
   "cell_type": "markdown",
   "metadata": {},
   "source": [
    "**Task 12:** Calculate the baseline accuracy score of this model"
   ]
  },
  {
   "cell_type": "code",
   "execution_count": 16,
   "metadata": {},
   "outputs": [
    {
     "name": "stdout",
     "output_type": "stream",
     "text": [
      "Baseline Accuracy score:  0.51\n"
     ]
    }
   ],
   "source": [
    "acc_score = y_train.value_counts(normalize = True).max()\n",
    "print(\"Baseline Accuracy score: \", round(acc_score, 2))"
   ]
  },
  {
   "cell_type": "markdown",
   "metadata": {},
   "source": [
    "## Iterate"
   ]
  },
  {
   "cell_type": "markdown",
   "metadata": {},
   "source": [
    "**Task 13:** Instantiate and train the model"
   ]
  },
  {
   "cell_type": "code",
   "execution_count": 17,
   "metadata": {},
   "outputs": [
    {
     "data": {
      "text/html": [
       "<style>#sk-container-id-1 {color: black;background-color: white;}#sk-container-id-1 pre{padding: 0;}#sk-container-id-1 div.sk-toggleable {background-color: white;}#sk-container-id-1 label.sk-toggleable__label {cursor: pointer;display: block;width: 100%;margin-bottom: 0;padding: 0.3em;box-sizing: border-box;text-align: center;}#sk-container-id-1 label.sk-toggleable__label-arrow:before {content: \"▸\";float: left;margin-right: 0.25em;color: #696969;}#sk-container-id-1 label.sk-toggleable__label-arrow:hover:before {color: black;}#sk-container-id-1 div.sk-estimator:hover label.sk-toggleable__label-arrow:before {color: black;}#sk-container-id-1 div.sk-toggleable__content {max-height: 0;max-width: 0;overflow: hidden;text-align: left;background-color: #f0f8ff;}#sk-container-id-1 div.sk-toggleable__content pre {margin: 0.2em;color: black;border-radius: 0.25em;background-color: #f0f8ff;}#sk-container-id-1 input.sk-toggleable__control:checked~div.sk-toggleable__content {max-height: 200px;max-width: 100%;overflow: auto;}#sk-container-id-1 input.sk-toggleable__control:checked~label.sk-toggleable__label-arrow:before {content: \"▾\";}#sk-container-id-1 div.sk-estimator input.sk-toggleable__control:checked~label.sk-toggleable__label {background-color: #d4ebff;}#sk-container-id-1 div.sk-label input.sk-toggleable__control:checked~label.sk-toggleable__label {background-color: #d4ebff;}#sk-container-id-1 input.sk-hidden--visually {border: 0;clip: rect(1px 1px 1px 1px);clip: rect(1px, 1px, 1px, 1px);height: 1px;margin: -1px;overflow: hidden;padding: 0;position: absolute;width: 1px;}#sk-container-id-1 div.sk-estimator {font-family: monospace;background-color: #f0f8ff;border: 1px dotted black;border-radius: 0.25em;box-sizing: border-box;margin-bottom: 0.5em;}#sk-container-id-1 div.sk-estimator:hover {background-color: #d4ebff;}#sk-container-id-1 div.sk-parallel-item::after {content: \"\";width: 100%;border-bottom: 1px solid gray;flex-grow: 1;}#sk-container-id-1 div.sk-label:hover label.sk-toggleable__label {background-color: #d4ebff;}#sk-container-id-1 div.sk-serial::before {content: \"\";position: absolute;border-left: 1px solid gray;box-sizing: border-box;top: 0;bottom: 0;left: 50%;z-index: 0;}#sk-container-id-1 div.sk-serial {display: flex;flex-direction: column;align-items: center;background-color: white;padding-right: 0.2em;padding-left: 0.2em;position: relative;}#sk-container-id-1 div.sk-item {position: relative;z-index: 1;}#sk-container-id-1 div.sk-parallel {display: flex;align-items: stretch;justify-content: center;background-color: white;position: relative;}#sk-container-id-1 div.sk-item::before, #sk-container-id-1 div.sk-parallel-item::before {content: \"\";position: absolute;border-left: 1px solid gray;box-sizing: border-box;top: 0;bottom: 0;left: 50%;z-index: -1;}#sk-container-id-1 div.sk-parallel-item {display: flex;flex-direction: column;z-index: 1;position: relative;background-color: white;}#sk-container-id-1 div.sk-parallel-item:first-child::after {align-self: flex-end;width: 50%;}#sk-container-id-1 div.sk-parallel-item:last-child::after {align-self: flex-start;width: 50%;}#sk-container-id-1 div.sk-parallel-item:only-child::after {width: 0;}#sk-container-id-1 div.sk-dashed-wrapped {border: 1px dashed gray;margin: 0 0.4em 0.5em 0.4em;box-sizing: border-box;padding-bottom: 0.4em;background-color: white;}#sk-container-id-1 div.sk-label label {font-family: monospace;font-weight: bold;display: inline-block;line-height: 1.2em;}#sk-container-id-1 div.sk-label-container {text-align: center;}#sk-container-id-1 div.sk-container {/* jupyter's `normalize.less` sets `[hidden] { display: none; }` but bootstrap.min.css set `[hidden] { display: none !important; }` so we also need the `!important` here to be able to override the default hidden behavior on the sphinx rendered scikit-learn.org. See: https://github.com/scikit-learn/scikit-learn/issues/21755 */display: inline-block !important;position: relative;}#sk-container-id-1 div.sk-text-repr-fallback {display: none;}</style><div id=\"sk-container-id-1\" class=\"sk-top-container\"><div class=\"sk-text-repr-fallback\"><pre>Pipeline(steps=[(&#x27;ordinalencoder&#x27;,\n",
       "                 OrdinalEncoder(cols=[&#x27;sex&#x27;, &#x27;cp&#x27;, &#x27;fbs&#x27;, &#x27;restecg&#x27;, &#x27;exang&#x27;,\n",
       "                                      &#x27;slope&#x27;, &#x27;thal&#x27;],\n",
       "                                mapping=[{&#x27;col&#x27;: &#x27;sex&#x27;, &#x27;data_type&#x27;: dtype(&#x27;O&#x27;),\n",
       "                                          &#x27;mapping&#x27;: Male      1\n",
       "Female    2\n",
       "NaN      -2\n",
       "dtype: int64},\n",
       "                                         {&#x27;col&#x27;: &#x27;cp&#x27;, &#x27;data_type&#x27;: dtype(&#x27;O&#x27;),\n",
       "                                          &#x27;mapping&#x27;: Asymptomatic        1\n",
       "Typical Angina      2\n",
       "Non-anginal pain    3\n",
       "Atypical angina     4\n",
       "NaN                -2\n",
       "dtype: int64},\n",
       "                                         {&#x27;col&#x27;: &#x27;fbs&#x27;, &#x27;data_type&#x27;: dtype(&#x27;O&#x27;),\n",
       "                                          &#x27;m...\n",
       "dtype: int64},\n",
       "                                         {&#x27;col&#x27;: &#x27;exang&#x27;,\n",
       "                                          &#x27;data_type&#x27;: dtype(&#x27;O&#x27;),\n",
       "                                          &#x27;mapping&#x27;: No     1\n",
       "Yes    2\n",
       "NaN   -2\n",
       "dtype: int64},\n",
       "                                         {&#x27;col&#x27;: &#x27;slope&#x27;,\n",
       "                                          &#x27;data_type&#x27;: dtype(&#x27;O&#x27;),\n",
       "                                          &#x27;mapping&#x27;: upsloping       1\n",
       "Flat            2\n",
       "Down sloping    3\n",
       "NaN            -2\n",
       "dtype: int64},\n",
       "                                         {&#x27;col&#x27;: &#x27;thal&#x27;,\n",
       "                                          &#x27;data_type&#x27;: dtype(&#x27;O&#x27;),\n",
       "                                          &#x27;mapping&#x27;: Normal               1\n",
       "Reversible defect    2\n",
       "Fixed defect         3\n",
       "NaN                 -2\n",
       "dtype: int64}])),\n",
       "                (&#x27;decisiontreeclassifier&#x27;,\n",
       "                 DecisionTreeClassifier(random_state=2))])</pre><b>In a Jupyter environment, please rerun this cell to show the HTML representation or trust the notebook. <br />On GitHub, the HTML representation is unable to render, please try loading this page with nbviewer.org.</b></div><div class=\"sk-container\" hidden><div class=\"sk-item sk-dashed-wrapped\"><div class=\"sk-label-container\"><div class=\"sk-label sk-toggleable\"><input class=\"sk-toggleable__control sk-hidden--visually\" id=\"sk-estimator-id-1\" type=\"checkbox\" ><label for=\"sk-estimator-id-1\" class=\"sk-toggleable__label sk-toggleable__label-arrow\">Pipeline</label><div class=\"sk-toggleable__content\"><pre>Pipeline(steps=[(&#x27;ordinalencoder&#x27;,\n",
       "                 OrdinalEncoder(cols=[&#x27;sex&#x27;, &#x27;cp&#x27;, &#x27;fbs&#x27;, &#x27;restecg&#x27;, &#x27;exang&#x27;,\n",
       "                                      &#x27;slope&#x27;, &#x27;thal&#x27;],\n",
       "                                mapping=[{&#x27;col&#x27;: &#x27;sex&#x27;, &#x27;data_type&#x27;: dtype(&#x27;O&#x27;),\n",
       "                                          &#x27;mapping&#x27;: Male      1\n",
       "Female    2\n",
       "NaN      -2\n",
       "dtype: int64},\n",
       "                                         {&#x27;col&#x27;: &#x27;cp&#x27;, &#x27;data_type&#x27;: dtype(&#x27;O&#x27;),\n",
       "                                          &#x27;mapping&#x27;: Asymptomatic        1\n",
       "Typical Angina      2\n",
       "Non-anginal pain    3\n",
       "Atypical angina     4\n",
       "NaN                -2\n",
       "dtype: int64},\n",
       "                                         {&#x27;col&#x27;: &#x27;fbs&#x27;, &#x27;data_type&#x27;: dtype(&#x27;O&#x27;),\n",
       "                                          &#x27;m...\n",
       "dtype: int64},\n",
       "                                         {&#x27;col&#x27;: &#x27;exang&#x27;,\n",
       "                                          &#x27;data_type&#x27;: dtype(&#x27;O&#x27;),\n",
       "                                          &#x27;mapping&#x27;: No     1\n",
       "Yes    2\n",
       "NaN   -2\n",
       "dtype: int64},\n",
       "                                         {&#x27;col&#x27;: &#x27;slope&#x27;,\n",
       "                                          &#x27;data_type&#x27;: dtype(&#x27;O&#x27;),\n",
       "                                          &#x27;mapping&#x27;: upsloping       1\n",
       "Flat            2\n",
       "Down sloping    3\n",
       "NaN            -2\n",
       "dtype: int64},\n",
       "                                         {&#x27;col&#x27;: &#x27;thal&#x27;,\n",
       "                                          &#x27;data_type&#x27;: dtype(&#x27;O&#x27;),\n",
       "                                          &#x27;mapping&#x27;: Normal               1\n",
       "Reversible defect    2\n",
       "Fixed defect         3\n",
       "NaN                 -2\n",
       "dtype: int64}])),\n",
       "                (&#x27;decisiontreeclassifier&#x27;,\n",
       "                 DecisionTreeClassifier(random_state=2))])</pre></div></div></div><div class=\"sk-serial\"><div class=\"sk-item\"><div class=\"sk-estimator sk-toggleable\"><input class=\"sk-toggleable__control sk-hidden--visually\" id=\"sk-estimator-id-2\" type=\"checkbox\" ><label for=\"sk-estimator-id-2\" class=\"sk-toggleable__label sk-toggleable__label-arrow\">OrdinalEncoder</label><div class=\"sk-toggleable__content\"><pre>OrdinalEncoder(cols=[&#x27;sex&#x27;, &#x27;cp&#x27;, &#x27;fbs&#x27;, &#x27;restecg&#x27;, &#x27;exang&#x27;, &#x27;slope&#x27;, &#x27;thal&#x27;],\n",
       "               mapping=[{&#x27;col&#x27;: &#x27;sex&#x27;, &#x27;data_type&#x27;: dtype(&#x27;O&#x27;),\n",
       "                         &#x27;mapping&#x27;: Male      1\n",
       "Female    2\n",
       "NaN      -2\n",
       "dtype: int64},\n",
       "                        {&#x27;col&#x27;: &#x27;cp&#x27;, &#x27;data_type&#x27;: dtype(&#x27;O&#x27;),\n",
       "                         &#x27;mapping&#x27;: Asymptomatic        1\n",
       "Typical Angina      2\n",
       "Non-anginal pain    3\n",
       "Atypical angina     4\n",
       "NaN                -2\n",
       "dtype: int64},\n",
       "                        {&#x27;col&#x27;: &#x27;fbs&#x27;, &#x27;data_type&#x27;: dtype(&#x27;O&#x27;),\n",
       "                         &#x27;mapping&#x27;: False    1\n",
       "True     2\n",
       "NaN     -2\n",
       "dtype: int64},\n",
       "                        {&#x27;col&#x27;: &#x27;restecg&#x27;, &#x27;data_type&#x27;: dtype(&#x27;O&#x27;),\n",
       "                         &#x27;mapping&#x27;: Abnormal    1\n",
       "Normal      2\n",
       "NaN        -2\n",
       "dtype: int64},\n",
       "                        {&#x27;col&#x27;: &#x27;exang&#x27;, &#x27;data_type&#x27;: dtype(&#x27;O&#x27;),\n",
       "                         &#x27;mapping&#x27;: No     1\n",
       "Yes    2\n",
       "NaN   -2\n",
       "dtype: int64},\n",
       "                        {&#x27;col&#x27;: &#x27;slope&#x27;, &#x27;data_type&#x27;: dtype(&#x27;O&#x27;),\n",
       "                         &#x27;mapping&#x27;: upsloping       1\n",
       "Flat            2\n",
       "Down sloping    3\n",
       "NaN            -2\n",
       "dtype: int64},\n",
       "                        {&#x27;col&#x27;: &#x27;thal&#x27;, &#x27;data_type&#x27;: dtype(&#x27;O&#x27;),\n",
       "                         &#x27;mapping&#x27;: Normal               1\n",
       "Reversible defect    2\n",
       "Fixed defect         3\n",
       "NaN                 -2\n",
       "dtype: int64}])</pre></div></div></div><div class=\"sk-item\"><div class=\"sk-estimator sk-toggleable\"><input class=\"sk-toggleable__control sk-hidden--visually\" id=\"sk-estimator-id-3\" type=\"checkbox\" ><label for=\"sk-estimator-id-3\" class=\"sk-toggleable__label sk-toggleable__label-arrow\">DecisionTreeClassifier</label><div class=\"sk-toggleable__content\"><pre>DecisionTreeClassifier(random_state=2)</pre></div></div></div></div></div></div></div>"
      ],
      "text/plain": [
       "Pipeline(steps=[('ordinalencoder',\n",
       "                 OrdinalEncoder(cols=['sex', 'cp', 'fbs', 'restecg', 'exang',\n",
       "                                      'slope', 'thal'],\n",
       "                                mapping=[{'col': 'sex', 'data_type': dtype('O'),\n",
       "                                          'mapping': Male      1\n",
       "Female    2\n",
       "NaN      -2\n",
       "dtype: int64},\n",
       "                                         {'col': 'cp', 'data_type': dtype('O'),\n",
       "                                          'mapping': Asymptomatic        1\n",
       "Typical Angina      2\n",
       "Non-anginal pain    3\n",
       "Atypical angina     4\n",
       "NaN                -2\n",
       "dtype: int64},\n",
       "                                         {'col': 'fbs', 'data_type': dtype('O'),\n",
       "                                          'm...\n",
       "dtype: int64},\n",
       "                                         {'col': 'exang',\n",
       "                                          'data_type': dtype('O'),\n",
       "                                          'mapping': No     1\n",
       "Yes    2\n",
       "NaN   -2\n",
       "dtype: int64},\n",
       "                                         {'col': 'slope',\n",
       "                                          'data_type': dtype('O'),\n",
       "                                          'mapping': upsloping       1\n",
       "Flat            2\n",
       "Down sloping    3\n",
       "NaN            -2\n",
       "dtype: int64},\n",
       "                                         {'col': 'thal',\n",
       "                                          'data_type': dtype('O'),\n",
       "                                          'mapping': Normal               1\n",
       "Reversible defect    2\n",
       "Fixed defect         3\n",
       "NaN                 -2\n",
       "dtype: int64}])),\n",
       "                ('decisiontreeclassifier',\n",
       "                 DecisionTreeClassifier(random_state=2))])"
      ]
     },
     "execution_count": 17,
     "metadata": {},
     "output_type": "execute_result"
    }
   ],
   "source": [
    "model = make_pipeline(\n",
    "    OrdinalEncoder(),\n",
    "    DecisionTreeClassifier(random_state = 2)\n",
    ")\n",
    "model.fit(X_train, y_train)"
   ]
  },
  {
   "cell_type": "markdown",
   "metadata": {},
   "source": [
    "## Evaluate"
   ]
  },
  {
   "cell_type": "markdown",
   "metadata": {},
   "source": [
    "**Task 14:** Calculate the training accuracy score of this model"
   ]
  },
  {
   "cell_type": "code",
   "execution_count": 18,
   "metadata": {},
   "outputs": [
    {
     "name": "stdout",
     "output_type": "stream",
     "text": [
      "Training Accuracy score:  1.0\n"
     ]
    }
   ],
   "source": [
    "train_acc = model.score(X_train, y_train)\n",
    "print(\"Training Accuracy score: \", round(train_acc, 2))"
   ]
  },
  {
   "cell_type": "markdown",
   "metadata": {},
   "source": [
    "**Task 15:** Calculate the test accuracy score of this model"
   ]
  },
  {
   "cell_type": "code",
   "execution_count": 19,
   "metadata": {},
   "outputs": [
    {
     "name": "stdout",
     "output_type": "stream",
     "text": [
      "Test Accuracy score:  0.69\n"
     ]
    }
   ],
   "source": [
    "test_acc = model.score(X_val, y_val)\n",
    "print(\"Test Accuracy score: \", round(test_acc, 2))"
   ]
  },
  {
   "cell_type": "markdown",
   "metadata": {},
   "source": [
    "**Task 16:** Get the max depth of the model"
   ]
  },
  {
   "cell_type": "code",
   "execution_count": 20,
   "metadata": {},
   "outputs": [
    {
     "name": "stdout",
     "output_type": "stream",
     "text": [
      "Max depth:  8\n"
     ]
    }
   ],
   "source": [
    "depth = model.named_steps[\"decisiontreeclassifier\"].get_depth()\n",
    "print(\"Max depth: \", depth)"
   ]
  },
  {
   "cell_type": "markdown",
   "metadata": {},
   "source": [
    "**Task 16:** Generate a list of training and validation accuracy scores"
   ]
  },
  {
   "cell_type": "code",
   "execution_count": 21,
   "metadata": {},
   "outputs": [],
   "source": [
    "train_acc = []\n",
    "val_acc = []\n",
    "for d in range(2, depth, 2):\n",
    "    model = make_pipeline(OrdinalEncoder(), DecisionTreeClassifier(random_state = 2, max_depth = d))\n",
    "    model.fit(X_train, y_train)\n",
    "    train_acc.append(model.score(X_train, y_train))\n",
    "    val_acc.append(model.score(X_val, y_val))"
   ]
  },
  {
   "cell_type": "markdown",
   "metadata": {},
   "source": [
    "**Task 17:** Visualize the validation and the training accuracy scores to get the best depth"
   ]
  },
  {
   "cell_type": "code",
   "execution_count": 22,
   "metadata": {},
   "outputs": [
    {
     "data": {
      "image/png": "[encoded data removed]",
      "text/plain": [
       "<Figure size 432x288 with 1 Axes>"
      ]
     },
     "metadata": {
      "needs_background": "light"
     },
     "output_type": "display_data"
    }
   ],
   "source": [
    "plt.plot(range(2, depth, 2), train_acc, label = \"Training accuracy scores\")\n",
    "plt.plot(range(2, depth, 2), val_acc, label = \"Test accuracy scores\")\n",
    "plt.title(\"Accuracy scores vs Max depth\")\n",
    "plt.legend();"
   ]
  },
  {
   "cell_type": "markdown",
   "metadata": {},
   "source": [
    "**Task 18:** Rebuild the decision tree model with the best depth"
   ]
  },
  {
   "cell_type": "code",
   "execution_count": 23,
   "metadata": {},
   "outputs": [
    {
     "data": {
      "text/html": [
       "<style>#sk-container-id-2 {color: black;background-color: white;}#sk-container-id-2 pre{padding: 0;}#sk-container-id-2 div.sk-toggleable {background-color: white;}#sk-container-id-2 label.sk-toggleable__label {cursor: pointer;display: block;width: 100%;margin-bottom: 0;padding: 0.3em;box-sizing: border-box;text-align: center;}#sk-container-id-2 label.sk-toggleable__label-arrow:before {content: \"▸\";float: left;margin-right: 0.25em;color: #696969;}#sk-container-id-2 label.sk-toggleable__label-arrow:hover:before {color: black;}#sk-container-id-2 div.sk-estimator:hover label.sk-toggleable__label-arrow:before {color: black;}#sk-container-id-2 div.sk-toggleable__content {max-height: 0;max-width: 0;overflow: hidden;text-align: left;background-color: #f0f8ff;}#sk-container-id-2 div.sk-toggleable__content pre {margin: 0.2em;color: black;border-radius: 0.25em;background-color: #f0f8ff;}#sk-container-id-2 input.sk-toggleable__control:checked~div.sk-toggleable__content {max-height: 200px;max-width: 100%;overflow: auto;}#sk-container-id-2 input.sk-toggleable__control:checked~label.sk-toggleable__label-arrow:before {content: \"▾\";}#sk-container-id-2 div.sk-estimator input.sk-toggleable__control:checked~label.sk-toggleable__label {background-color: #d4ebff;}#sk-container-id-2 div.sk-label input.sk-toggleable__control:checked~label.sk-toggleable__label {background-color: #d4ebff;}#sk-container-id-2 input.sk-hidden--visually {border: 0;clip: rect(1px 1px 1px 1px);clip: rect(1px, 1px, 1px, 1px);height: 1px;margin: -1px;overflow: hidden;padding: 0;position: absolute;width: 1px;}#sk-container-id-2 div.sk-estimator {font-family: monospace;background-color: #f0f8ff;border: 1px dotted black;border-radius: 0.25em;box-sizing: border-box;margin-bottom: 0.5em;}#sk-container-id-2 div.sk-estimator:hover {background-color: #d4ebff;}#sk-container-id-2 div.sk-parallel-item::after {content: \"\";width: 100%;border-bottom: 1px solid gray;flex-grow: 1;}#sk-container-id-2 div.sk-label:hover label.sk-toggleable__label {background-color: #d4ebff;}#sk-container-id-2 div.sk-serial::before {content: \"\";position: absolute;border-left: 1px solid gray;box-sizing: border-box;top: 0;bottom: 0;left: 50%;z-index: 0;}#sk-container-id-2 div.sk-serial {display: flex;flex-direction: column;align-items: center;background-color: white;padding-right: 0.2em;padding-left: 0.2em;position: relative;}#sk-container-id-2 div.sk-item {position: relative;z-index: 1;}#sk-container-id-2 div.sk-parallel {display: flex;align-items: stretch;justify-content: center;background-color: white;position: relative;}#sk-container-id-2 div.sk-item::before, #sk-container-id-2 div.sk-parallel-item::before {content: \"\";position: absolute;border-left: 1px solid gray;box-sizing: border-box;top: 0;bottom: 0;left: 50%;z-index: -1;}#sk-container-id-2 div.sk-parallel-item {display: flex;flex-direction: column;z-index: 1;position: relative;background-color: white;}#sk-container-id-2 div.sk-parallel-item:first-child::after {align-self: flex-end;width: 50%;}#sk-container-id-2 div.sk-parallel-item:last-child::after {align-self: flex-start;width: 50%;}#sk-container-id-2 div.sk-parallel-item:only-child::after {width: 0;}#sk-container-id-2 div.sk-dashed-wrapped {border: 1px dashed gray;margin: 0 0.4em 0.5em 0.4em;box-sizing: border-box;padding-bottom: 0.4em;background-color: white;}#sk-container-id-2 div.sk-label label {font-family: monospace;font-weight: bold;display: inline-block;line-height: 1.2em;}#sk-container-id-2 div.sk-label-container {text-align: center;}#sk-container-id-2 div.sk-container {/* jupyter's `normalize.less` sets `[hidden] { display: none; }` but bootstrap.min.css set `[hidden] { display: none !important; }` so we also need the `!important` here to be able to override the default hidden behavior on the sphinx rendered scikit-learn.org. See: https://github.com/scikit-learn/scikit-learn/issues/21755 */display: inline-block !important;position: relative;}#sk-container-id-2 div.sk-text-repr-fallback {display: none;}</style><div id=\"sk-container-id-2\" class=\"sk-top-container\"><div class=\"sk-text-repr-fallback\"><pre>Pipeline(steps=[(&#x27;ordinalencoder&#x27;,\n",
       "                 OrdinalEncoder(cols=[&#x27;sex&#x27;, &#x27;cp&#x27;, &#x27;fbs&#x27;, &#x27;restecg&#x27;, &#x27;exang&#x27;,\n",
       "                                      &#x27;slope&#x27;, &#x27;thal&#x27;],\n",
       "                                mapping=[{&#x27;col&#x27;: &#x27;sex&#x27;, &#x27;data_type&#x27;: dtype(&#x27;O&#x27;),\n",
       "                                          &#x27;mapping&#x27;: Male      1\n",
       "Female    2\n",
       "NaN      -2\n",
       "dtype: int64},\n",
       "                                         {&#x27;col&#x27;: &#x27;cp&#x27;, &#x27;data_type&#x27;: dtype(&#x27;O&#x27;),\n",
       "                                          &#x27;mapping&#x27;: Asymptomatic        1\n",
       "Typical Angina      2\n",
       "Non-anginal pain    3\n",
       "Atypical angina     4\n",
       "NaN                -2\n",
       "dtype: int64},\n",
       "                                         {&#x27;col&#x27;: &#x27;fbs&#x27;, &#x27;data_type&#x27;: dtype(&#x27;O&#x27;),\n",
       "                                          &#x27;m...\n",
       "dtype: int64},\n",
       "                                         {&#x27;col&#x27;: &#x27;exang&#x27;,\n",
       "                                          &#x27;data_type&#x27;: dtype(&#x27;O&#x27;),\n",
       "                                          &#x27;mapping&#x27;: No     1\n",
       "Yes    2\n",
       "NaN   -2\n",
       "dtype: int64},\n",
       "                                         {&#x27;col&#x27;: &#x27;slope&#x27;,\n",
       "                                          &#x27;data_type&#x27;: dtype(&#x27;O&#x27;),\n",
       "                                          &#x27;mapping&#x27;: upsloping       1\n",
       "Flat            2\n",
       "Down sloping    3\n",
       "NaN            -2\n",
       "dtype: int64},\n",
       "                                         {&#x27;col&#x27;: &#x27;thal&#x27;,\n",
       "                                          &#x27;data_type&#x27;: dtype(&#x27;O&#x27;),\n",
       "                                          &#x27;mapping&#x27;: Normal               1\n",
       "Reversible defect    2\n",
       "Fixed defect         3\n",
       "NaN                 -2\n",
       "dtype: int64}])),\n",
       "                (&#x27;decisiontreeclassifier&#x27;,\n",
       "                 DecisionTreeClassifier(max_depth=3, random_state=2))])</pre><b>In a Jupyter environment, please rerun this cell to show the HTML representation or trust the notebook. <br />On GitHub, the HTML representation is unable to render, please try loading this page with nbviewer.org.</b></div><div class=\"sk-container\" hidden><div class=\"sk-item sk-dashed-wrapped\"><div class=\"sk-label-container\"><div class=\"sk-label sk-toggleable\"><input class=\"sk-toggleable__control sk-hidden--visually\" id=\"sk-estimator-id-4\" type=\"checkbox\" ><label for=\"sk-estimator-id-4\" class=\"sk-toggleable__label sk-toggleable__label-arrow\">Pipeline</label><div class=\"sk-toggleable__content\"><pre>Pipeline(steps=[(&#x27;ordinalencoder&#x27;,\n",
       "                 OrdinalEncoder(cols=[&#x27;sex&#x27;, &#x27;cp&#x27;, &#x27;fbs&#x27;, &#x27;restecg&#x27;, &#x27;exang&#x27;,\n",
       "                                      &#x27;slope&#x27;, &#x27;thal&#x27;],\n",
       "                                mapping=[{&#x27;col&#x27;: &#x27;sex&#x27;, &#x27;data_type&#x27;: dtype(&#x27;O&#x27;),\n",
       "                                          &#x27;mapping&#x27;: Male      1\n",
       "Female    2\n",
       "NaN      -2\n",
       "dtype: int64},\n",
       "                                         {&#x27;col&#x27;: &#x27;cp&#x27;, &#x27;data_type&#x27;: dtype(&#x27;O&#x27;),\n",
       "                                          &#x27;mapping&#x27;: Asymptomatic        1\n",
       "Typical Angina      2\n",
       "Non-anginal pain    3\n",
       "Atypical angina     4\n",
       "NaN                -2\n",
       "dtype: int64},\n",
       "                                         {&#x27;col&#x27;: &#x27;fbs&#x27;, &#x27;data_type&#x27;: dtype(&#x27;O&#x27;),\n",
       "                                          &#x27;m...\n",
       "dtype: int64},\n",
       "                                         {&#x27;col&#x27;: &#x27;exang&#x27;,\n",
       "                                          &#x27;data_type&#x27;: dtype(&#x27;O&#x27;),\n",
       "                                          &#x27;mapping&#x27;: No     1\n",
       "Yes    2\n",
       "NaN   -2\n",
       "dtype: int64},\n",
       "                                         {&#x27;col&#x27;: &#x27;slope&#x27;,\n",
       "                                          &#x27;data_type&#x27;: dtype(&#x27;O&#x27;),\n",
       "                                          &#x27;mapping&#x27;: upsloping       1\n",
       "Flat            2\n",
       "Down sloping    3\n",
       "NaN            -2\n",
       "dtype: int64},\n",
       "                                         {&#x27;col&#x27;: &#x27;thal&#x27;,\n",
       "                                          &#x27;data_type&#x27;: dtype(&#x27;O&#x27;),\n",
       "                                          &#x27;mapping&#x27;: Normal               1\n",
       "Reversible defect    2\n",
       "Fixed defect         3\n",
       "NaN                 -2\n",
       "dtype: int64}])),\n",
       "                (&#x27;decisiontreeclassifier&#x27;,\n",
       "                 DecisionTreeClassifier(max_depth=3, random_state=2))])</pre></div></div></div><div class=\"sk-serial\"><div class=\"sk-item\"><div class=\"sk-estimator sk-toggleable\"><input class=\"sk-toggleable__control sk-hidden--visually\" id=\"sk-estimator-id-5\" type=\"checkbox\" ><label for=\"sk-estimator-id-5\" class=\"sk-toggleable__label sk-toggleable__label-arrow\">OrdinalEncoder</label><div class=\"sk-toggleable__content\"><pre>OrdinalEncoder(cols=[&#x27;sex&#x27;, &#x27;cp&#x27;, &#x27;fbs&#x27;, &#x27;restecg&#x27;, &#x27;exang&#x27;, &#x27;slope&#x27;, &#x27;thal&#x27;],\n",
       "               mapping=[{&#x27;col&#x27;: &#x27;sex&#x27;, &#x27;data_type&#x27;: dtype(&#x27;O&#x27;),\n",
       "                         &#x27;mapping&#x27;: Male      1\n",
       "Female    2\n",
       "NaN      -2\n",
       "dtype: int64},\n",
       "                        {&#x27;col&#x27;: &#x27;cp&#x27;, &#x27;data_type&#x27;: dtype(&#x27;O&#x27;),\n",
       "                         &#x27;mapping&#x27;: Asymptomatic        1\n",
       "Typical Angina      2\n",
       "Non-anginal pain    3\n",
       "Atypical angina     4\n",
       "NaN                -2\n",
       "dtype: int64},\n",
       "                        {&#x27;col&#x27;: &#x27;fbs&#x27;, &#x27;data_type&#x27;: dtype(&#x27;O&#x27;),\n",
       "                         &#x27;mapping&#x27;: False    1\n",
       "True     2\n",
       "NaN     -2\n",
       "dtype: int64},\n",
       "                        {&#x27;col&#x27;: &#x27;restecg&#x27;, &#x27;data_type&#x27;: dtype(&#x27;O&#x27;),\n",
       "                         &#x27;mapping&#x27;: Abnormal    1\n",
       "Normal      2\n",
       "NaN        -2\n",
       "dtype: int64},\n",
       "                        {&#x27;col&#x27;: &#x27;exang&#x27;, &#x27;data_type&#x27;: dtype(&#x27;O&#x27;),\n",
       "                         &#x27;mapping&#x27;: No     1\n",
       "Yes    2\n",
       "NaN   -2\n",
       "dtype: int64},\n",
       "                        {&#x27;col&#x27;: &#x27;slope&#x27;, &#x27;data_type&#x27;: dtype(&#x27;O&#x27;),\n",
       "                         &#x27;mapping&#x27;: upsloping       1\n",
       "Flat            2\n",
       "Down sloping    3\n",
       "NaN            -2\n",
       "dtype: int64},\n",
       "                        {&#x27;col&#x27;: &#x27;thal&#x27;, &#x27;data_type&#x27;: dtype(&#x27;O&#x27;),\n",
       "                         &#x27;mapping&#x27;: Normal               1\n",
       "Reversible defect    2\n",
       "Fixed defect         3\n",
       "NaN                 -2\n",
       "dtype: int64}])</pre></div></div></div><div class=\"sk-item\"><div class=\"sk-estimator sk-toggleable\"><input class=\"sk-toggleable__control sk-hidden--visually\" id=\"sk-estimator-id-6\" type=\"checkbox\" ><label for=\"sk-estimator-id-6\" class=\"sk-toggleable__label sk-toggleable__label-arrow\">DecisionTreeClassifier</label><div class=\"sk-toggleable__content\"><pre>DecisionTreeClassifier(max_depth=3, random_state=2)</pre></div></div></div></div></div></div></div>"
      ],
      "text/plain": [
       "Pipeline(steps=[('ordinalencoder',\n",
       "                 OrdinalEncoder(cols=['sex', 'cp', 'fbs', 'restecg', 'exang',\n",
       "                                      'slope', 'thal'],\n",
       "                                mapping=[{'col': 'sex', 'data_type': dtype('O'),\n",
       "                                          'mapping': Male      1\n",
       "Female    2\n",
       "NaN      -2\n",
       "dtype: int64},\n",
       "                                         {'col': 'cp', 'data_type': dtype('O'),\n",
       "                                          'mapping': Asymptomatic        1\n",
       "Typical Angina      2\n",
       "Non-anginal pain    3\n",
       "Atypical angina     4\n",
       "NaN                -2\n",
       "dtype: int64},\n",
       "                                         {'col': 'fbs', 'data_type': dtype('O'),\n",
       "                                          'm...\n",
       "dtype: int64},\n",
       "                                         {'col': 'exang',\n",
       "                                          'data_type': dtype('O'),\n",
       "                                          'mapping': No     1\n",
       "Yes    2\n",
       "NaN   -2\n",
       "dtype: int64},\n",
       "                                         {'col': 'slope',\n",
       "                                          'data_type': dtype('O'),\n",
       "                                          'mapping': upsloping       1\n",
       "Flat            2\n",
       "Down sloping    3\n",
       "NaN            -2\n",
       "dtype: int64},\n",
       "                                         {'col': 'thal',\n",
       "                                          'data_type': dtype('O'),\n",
       "                                          'mapping': Normal               1\n",
       "Reversible defect    2\n",
       "Fixed defect         3\n",
       "NaN                 -2\n",
       "dtype: int64}])),\n",
       "                ('decisiontreeclassifier',\n",
       "                 DecisionTreeClassifier(max_depth=3, random_state=2))])"
      ]
     },
     "execution_count": 23,
     "metadata": {},
     "output_type": "execute_result"
    }
   ],
   "source": [
    "model = make_pipeline(\n",
    "    OrdinalEncoder(),\n",
    "    DecisionTreeClassifier(random_state = 2, max_depth = 3)\n",
    ")\n",
    "model.fit(X_train, y_train)"
   ]
  },
  {
   "cell_type": "markdown",
   "metadata": {},
   "source": [
    "**Task 19:** Calculate the test accuracy score of this model"
   ]
  },
  {
   "cell_type": "code",
   "execution_count": 24,
   "metadata": {},
   "outputs": [
    {
     "name": "stdout",
     "output_type": "stream",
     "text": [
      "Test Accuracy score:  0.75\n"
     ]
    }
   ],
   "source": [
    "test_acc = model.score(X_test, y_test)\n",
    "print(\"Test Accuracy score: \", round(test_acc, 2))"
   ]
  },
  {
   "cell_type": "markdown",
   "metadata": {},
   "source": [
    "# Communicate"
   ]
  },
  {
   "cell_type": "markdown",
   "metadata": {},
   "source": [
    "**Task 20:** Generate an array of predictions of the model"
   ]
  },
  {
   "cell_type": "code",
   "execution_count": 25,
   "metadata": {},
   "outputs": [
    {
     "data": {
      "text/plain": [
       "array([0.0754717 , 0.68      , 0.78947368, 0.0754717 , 0.95652174])"
      ]
     },
     "execution_count": 25,
     "metadata": {},
     "output_type": "execute_result"
    }
   ],
   "source": [
    "model.predict_proba(X_train)[:,-1][:5]"
   ]
  },
  {
   "cell_type": "markdown",
   "metadata": {},
   "source": [
    "**Task 21:** Calculate the feature importance of the model"
   ]
  },
  {
   "cell_type": "code",
   "execution_count": 26,
   "metadata": {},
   "outputs": [
    {
     "data": {
      "text/plain": [
       "array([0.1391633 , 0.        , 0.        , 0.0457217 , 0.0867582 ,\n",
       "       0.        , 0.        , 0.        , 0.        , 0.0414831 ,\n",
       "       0.10026256, 0.12491913, 0.46169202])"
      ]
     },
     "execution_count": 26,
     "metadata": {},
     "output_type": "execute_result"
    }
   ],
   "source": [
    "feat_importance = model.named_steps[\"decisiontreeclassifier\"].feature_importances_\n",
    "feat_importance"
   ]
  },
  {
   "cell_type": "markdown",
   "metadata": {},
   "source": [
    "**Task 22:** Create a series to show the level of importance of the features in this model"
   ]
  },
  {
   "cell_type": "code",
   "execution_count": 27,
   "metadata": {},
   "outputs": [
    {
     "data": {
      "text/plain": [
       "sex         0.000000\n",
       "cp          0.000000\n",
       "fbs         0.000000\n",
       "restecg     0.000000\n",
       "thalach     0.000000\n",
       "exang       0.000000\n",
       "oldpeak     0.041483\n",
       "trestbps    0.045722\n",
       "chol        0.086758\n",
       "slope       0.100263\n",
       "ca          0.124919\n",
       "age         0.139163\n",
       "thal        0.461692\n",
       "dtype: float64"
      ]
     },
     "execution_count": 27,
     "metadata": {},
     "output_type": "execute_result"
    }
   ],
   "source": [
    "odd_ratio = pd.Series(\n",
    "    feat_importance, index = X_train.columns\n",
    ").sort_values(ascending=True)\n",
    "odd_ratio"
   ]
  },
  {
   "cell_type": "markdown",
   "metadata": {},
   "source": [
    "**Task 23:**  Create a horizontal bar chart with the relevant features from the series above"
   ]
  },
  {
   "cell_type": "code",
   "execution_count": 28,
   "metadata": {},
   "outputs": [
    {
     "data": {
      "image/png": "[encoded data removed]",
      "text/plain": [
       "<Figure size 432x288 with 1 Axes>"
      ]
     },
     "metadata": {
      "needs_background": "light"
     },
     "output_type": "display_data"
    }
   ],
   "source": [
    "odd_ratio.tail(7).plot(kind = \"barh\")\n",
    "plt.xlabel(\"Gini Importance\")\n",
    "plt.ylabel(\"Features\");"
   ]
  },
  {
   "cell_type": "markdown",
   "metadata": {},
   "source": [
    "**Task 24:** Create a decision tree to visualize the results"
   ]
  },
  {
   "cell_type": "code",
   "execution_count": 30,
   "metadata": {},
   "outputs": [
    {
     "data": {
      "image/png": "[encoded data removed]",
      "text/plain": [
       "<Figure size 1080x432 with 1 Axes>"
      ]
     },
     "metadata": {
      "needs_background": "light"
     },
     "output_type": "display_data"
    }
   ],
   "source": [
    "fig, ax = plt.subplots(figsize = [15,6])\n",
    "plot_tree(\n",
    "    decision_tree = model.named_steps[\"decisiontreeclassifier\"],\n",
    "    feature_names = X_train.columns,\n",
    "    max_depth = 2,\n",
    "    rounded = True,\n",
    "    proportion = True,\n",
    "    filled = True,\n",
    "    ax = ax\n",
    ");"
   ]
  },
  {
   "cell_type": "markdown",
   "metadata": {},
   "source": [
    "# Findings"
   ]
  },
  {
   "cell_type": "markdown",
   "metadata": {},
   "source": [
    "<font face = \"calibri\">\n",
    "<p>\n",
    "The major factors that contribute to heart disease are:<br>\n",
    "<ul>\n",
    "<li>Thalassemia</li>\n",
    "<li>Age: Heart diseases are common in older people</li>\n",
    "<li>The number of major vessels in a person's heart</li>\n",
    "<li>Slope: People with flat slope are more likely to have heart disease than their counterparts</li>\n",
    "</ul>\n",
    "Other factors that contribute to heart disease based from the dataset are the resting blood pressure, ST depression  and the serum  cholesterol"
   ]
  },
  {
   "cell_type": "markdown",
   "metadata": {},
   "source": [
    "# Conclusion"
   ]
  },
  {
   "cell_type": "markdown",
   "metadata": {},
   "source": [
    "The *chest pain* is not an indicator of a heart disease"
   ]
  }
 ],
 "metadata": {
  "kernelspec": {
   "display_name": "Python 3.10.6 64-bit",
   "language": "python",
   "name": "python3"
  },
  "language_info": {
   "codemirror_mode": {
    "name": "ipython",
    "version": 3
   },
   "file_extension": ".py",
   "mimetype": "text/x-python",
   "name": "python",
   "nbconvert_exporter": "python",
   "pygments_lexer": "ipython3",
   "version": "3.10.6"
  },
  "orig_nbformat": 4,
  "vscode": {
   "interpreter": {
    "hash": "a9cff5a362bc38ef45d817ae74b1af54d6a076e3d773891282bce078b815ba34"
   }
  }
 },
 "nbformat": 4,
 "nbformat_minor": 2
}
